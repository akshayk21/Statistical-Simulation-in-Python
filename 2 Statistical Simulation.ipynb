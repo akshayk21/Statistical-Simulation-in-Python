{
 "cells": [
  {
   "cell_type": "markdown",
   "metadata": {
    "ein.tags": "worksheet-0",
    "slideshow": {
     "slide_type": "-"
    }
   },
   "source": [
    "# Statistics Simulation"
   ]
  },
  {
   "cell_type": "code",
   "execution_count": 3,
   "metadata": {
    "autoscroll": false,
    "ein.tags": "worksheet-0",
    "slideshow": {
     "slide_type": "-"
    }
   },
   "outputs": [],
   "source": [
    "import numpy as np\n",
    "import matplotlib.pyplot as plt\n",
    "%matplotlib inline\n",
    "import statsmodels.api as sm\n",
    "import scipy as ap"
   ]
  },
  {
   "cell_type": "markdown",
   "metadata": {},
   "source": [
    "## Question 1: How often we get significant results?\n",
    "\n",
    "Here the task is to play with linear regression where your outcome y is just random noise, unrelated to the\n",
    "explanatory variables. How often do you get \"statistically significant\" results, i.e. results with the t-value\n",
    "over 1.96, when you use one or more x-s?\n",
    "\n",
    "You will run a large number R (1000 is a good choice) of linear regression models. In each case you\n",
    "create K random x-s and a randome y, and estimate a model yi = xB + e. Just by chance, some of the\n",
    "results are sometimes significant. How does it depend on the sample size N and number of features K?"
   ]
  },
  {
   "cell_type": "markdown",
   "metadata": {},
   "source": [
    "### Part 1-3\n",
    "\n",
    "#### 1. \n",
    "Pick your number of repetitions R (1000 is a good choice), number of features K (1,2,5 is a good choice), and sample sizes N. Some of these should be very small, some rather large (10, 1000, 100,000 are good choices, but you may want to adjust if the latter is too slow).\n",
    "\n",
    "#### 2. \n",
    "For R times do:\n",
    "(a) K random x-s of length N (uniform or normal, or something else like binomial)\n",
    "(b) the disturbance term e of length N (normal)\n",
    "(c) compute yi = x0i + ei, i.e. yi = ei and there is no relationship whatsoever with x-s.\n",
    "(d) Estimate the linear regression model in the form yi = xi'B + ei.\n",
    "For each component, store also whether it was statistically significant or not (i.e. whether\n",
    "|t| > 1.96), and the corresponding p-value.\n",
    "\n",
    "#### 3.\n",
    "Report what is the percentage of statistically significant results: what is the percentage that a given\n",
    "component was statistically significant? Than any component was statistically significant (if K > 1)?\n",
    "\n"
   ]
  },
  {
   "cell_type": "code",
   "execution_count": 43,
   "metadata": {
    "autoscroll": false,
    "ein.tags": "worksheet-0",
    "slideshow": {
     "slide_type": "-"
    }
   },
   "outputs": [],
   "source": [
    "## Create random data and estimate a linear regression model w/statsmodels\n",
    "def lrEstimate(n,k):\n",
    "    \n",
    "    # empty list to store the final parameters and final  t-values\n",
    "    percK = []\n",
    "\n",
    "    for i in range(1,10001):\n",
    "        \n",
    "        #simulating x as a random uniform number\n",
    "        #k= number of components\n",
    "        #n=number of observations\n",
    "        #simulating the error term (eps) as a random normal number\n",
    "\n",
    "        x = np.random.uniform(size=(n,k)) \n",
    "        eps = np.random.normal(size=(n,1))\n",
    "        y = eps\n",
    "        \n",
    "        #the array x is being concatenated with a new column vector of 1s because the following OLS()\n",
    "        #function does not take into consideration the intercept term\n",
    "        \n",
    "        X = np.concatenate((np.ones_like(y), x), axis=1)\n",
    "        \n",
    "        #fitting a linear model\n",
    "        m = sm.OLS(y, X)\n",
    "        f = m.fit()\n",
    "        \n",
    "        params = f.params\n",
    "        tValues = f.tvalues\n",
    "        pValues = ap.stats.t.sf(np.abs(tValues), n-k-1)*2\n",
    "        \n",
    "        signifT = abs(tValues) > 1.96\n",
    "        \n",
    "        \n",
    "        if (sum(signifT)>=1):\n",
    "            percK.append(np.sum(signifT)/(k+1)*100)\n",
    "            \n",
    "        \n",
    "    \n",
    "    print(\"\\n\\n\\n\\t\\t\\t\\t\\t\\tWhen n=\",n,\" and k=\",k,sep=\"\")\n",
    "    print(\"\\nSignificant t-values:\\n\",np.asarray(percK).mean(axis=0),\"%\") \n",
    "    \n",
    "        \n",
    "    #return np.asarray(percK).mean(axis=0)\n"
   ]
  },
  {
   "cell_type": "markdown",
   "metadata": {},
   "source": [
    "#### Part 4\n",
    "\n",
    "Repeat the above for different N-s and different K-s. (If possible, do it for all the N-K combinations,\n",
    "if not only for some.)"
   ]
  },
  {
   "cell_type": "code",
   "execution_count": 45,
   "metadata": {},
   "outputs": [
    {
     "name": "stdout",
     "output_type": "stream",
     "text": [
      "\n",
      "\n",
      "\n",
      "\t\t\t\t\t\tWhen n=10 and k=2\n",
      "\n",
      "Significant t-values:\n",
      " 48.45791949817041 %\n",
      "\n",
      "\n",
      "\n",
      "\t\t\t\t\t\tWhen n=10 and k=3\n",
      "\n",
      "Significant t-values:\n",
      " 39.718162839248436 %\n",
      "\n",
      "\n",
      "\n",
      "\t\t\t\t\t\tWhen n=10 and k=4\n",
      "\n",
      "Significant t-values:\n",
      " 34.74581830108232 %\n",
      "\n",
      "\n",
      "\n",
      "\t\t\t\t\t\tWhen n=10 and k=5\n",
      "\n",
      "Significant t-values:\n",
      " 34.43483918944042 %\n",
      "\n",
      "\n",
      "\n",
      "\t\t\t\t\t\tWhen n=100 and k=2\n",
      "\n",
      "Significant t-values:\n",
      " 42.85714285714285 %\n",
      "\n",
      "\n",
      "\n",
      "\t\t\t\t\t\tWhen n=100 and k=3\n",
      "\n",
      "Significant t-values:\n",
      " 31.196711327649208 %\n",
      "\n",
      "\n",
      "\n",
      "\t\t\t\t\t\tWhen n=100 and k=4\n",
      "\n",
      "Significant t-values:\n",
      " 24.928503336510964 %\n",
      "\n",
      "\n",
      "\n",
      "\t\t\t\t\t\tWhen n=100 and k=5\n",
      "\n",
      "Significant t-values:\n",
      " 21.380148375543612 %\n",
      "\n",
      "\n",
      "\n",
      "\t\t\t\t\t\tWhen n=1000 and k=2\n",
      "\n",
      "Significant t-values:\n",
      " 42.37770193401591 %\n",
      "\n",
      "\n",
      "\n",
      "\t\t\t\t\t\tWhen n=1000 and k=3\n",
      "\n",
      "Significant t-values:\n",
      " 30.383211678832115 %\n",
      "\n",
      "\n",
      "\n",
      "\t\t\t\t\t\tWhen n=1000 and k=4\n",
      "\n",
      "Significant t-values:\n",
      " 24.283646888567294 %\n",
      "\n",
      "\n",
      "\n",
      "\t\t\t\t\t\tWhen n=1000 and k=5\n",
      "\n",
      "Significant t-values:\n",
      " 20.200970200970193 %\n",
      "\n",
      "\n",
      "\n",
      "\t\t\t\t\t\tWhen n=10000 and k=2\n",
      "\n",
      "Significant t-values:\n",
      " 40.96116233584799 %\n",
      "\n",
      "\n",
      "\n",
      "\t\t\t\t\t\tWhen n=10000 and k=3\n",
      "\n",
      "Significant t-values:\n",
      " 30.153508771929825 %\n",
      "\n",
      "\n",
      "\n",
      "\t\t\t\t\t\tWhen n=10000 and k=4\n",
      "\n",
      "Significant t-values:\n",
      " 24.19672131147541 %\n",
      "\n",
      "\n",
      "\n",
      "\t\t\t\t\t\tWhen n=10000 and k=5\n",
      "\n",
      "Significant t-values:\n",
      " 20.37417763157894 %\n"
     ]
    }
   ],
   "source": [
    "#Calculating the significant t-values for the various combinations of n and k\n",
    "n = [10,100,1000,10000]\n",
    "k = [2,3,4,5]\n",
    "\n",
    "for i in n:\n",
    "    for j in k:\n",
    "        lrEstimate(i,j)\n"
   ]
  },
  {
   "cell_type": "markdown",
   "metadata": {},
   "source": [
    "#### Part 5\n",
    "\n",
    "What do you find: how do N and K influence false positive outcomes? Explain!"
   ]
  },
  {
   "cell_type": "markdown",
   "metadata": {},
   "source": [
    "* With an increase in N, the proportion of false positive components should, theoretically, decrease\n",
    "* However, with an increase in k, the model becomes complex and two or more components may be correlated amongst themselves and may cause confounding."
   ]
  },
  {
   "cell_type": "markdown",
   "metadata": {},
   "source": [
    "## Question 2: Binomial Distribution\n",
    "\n",
    "Binomial(p, n) distribution is the distribution of sum of n independent Bernoulli events, each occuring\n",
    "with probability p."
   ]
  },
  {
   "cell_type": "markdown",
   "metadata": {},
   "source": [
    "#### Part 1\n",
    "Plot the probability mass function and cumulative distribution function of three binomial distributions:\n",
    "(a) Binomial(0.3, 1)\n",
    "(b) Binomial(0.3, 5)\n",
    "(c) Binomial(0.3, 100).\n",
    "\n",
    "You may be able to fit these distributions together but you probably want to make 6 separate plots.\n",
    "The plots should look something along the lines we did in the class. You may use the canned\n",
    "software, such as scipy.stats.binom."
   ]
  },
  {
   "cell_type": "code",
   "execution_count": 531,
   "metadata": {},
   "outputs": [],
   "source": [
    "#This function creates the PMF and CDF plots of the functions when n and p are given\n",
    "def plotPMFCDF(n,p):\n",
    "    fig, (ax1,ax2) = plt.subplots(1, 2) #making a subplot\n",
    "    fig.subplots_adjust(wspace=.7) #adjusting the width space between the two subplots\n",
    "\n",
    "    k = np.arange(0,n+1) #calculating k   \n",
    "\n",
    "    pmf = ap.stats.binom.pmf(k=k, n=n,p=p) #pmf\n",
    "    ax1.plot(k, pmf, 'bo', label='binom pmf') #plotting PMF\n",
    "    ax1.vlines(k, 0, pmf, colors='b', lw=5, alpha=0.5)\n",
    "    ax1.set_title(\"Probablity Mass Function\\n when n= {} {} {}\".format(n,\"and p=\",p))\n",
    "    ax1.set_xlabel(\"n\")\n",
    "    ax1.set_ylabel(\"p\")\n",
    "\n",
    "    cdf = ap.stats.binom.cdf(k=k, n=n,p=p) #plotting CDF\n",
    "    ax2.step(k, cdf)\n",
    "    ax2.set_title(\"Cummulative Density Function\\n when n= {} {} {}\".format(n,\"and p=\",p))\n",
    "    ax2.set_xlabel(\"n\")\n",
    "    ax2.set_ylabel(\"p\")\n",
    "\n",
    "    plt.show()"
   ]
  },
  {
   "cell_type": "code",
   "execution_count": 530,
   "metadata": {},
   "outputs": [
    {
     "data": {
      "image/png": "[encoded data removed]",
      "text/plain": [
       "<Figure size 432x288 with 2 Axes>"
      ]
     },
     "metadata": {
      "needs_background": "light"
     },
     "output_type": "display_data"
    },
    {
     "data": {
      "image/png": "[encoded data removed]",
      "text/plain": [
       "<Figure size 432x288 with 2 Axes>"
      ]
     },
     "metadata": {
      "needs_background": "light"
     },
     "output_type": "display_data"
    },
    {
     "data": {
      "image/png": "[encoded data removed]",
      "text/plain": [
       "<Figure size 432x288 with 2 Axes>"
      ]
     },
     "metadata": {
      "needs_background": "light"
     },
     "output_type": "display_data"
    }
   ],
   "source": [
    "#part 2.1a to 2.1c\n",
    "plotPMFCDF(1,0.3)\n",
    "plotPMFCDF(5,0.3)\n",
    "plotPMFCDF(100,0.3)"
   ]
  },
  {
   "cell_type": "markdown",
   "metadata": {},
   "source": [
    "#### Part 2\n",
    "Based on the last case, Binomial(0.3, 100), answer the following question: Assume the probability\n",
    "that a random student on campus speaks Spanish is 0.3. What is the probability that when randomly\n",
    "asking 100 students, we \u001c",
    "nd that less than 25 speak Spanish?"
   ]
  },
  {
   "cell_type": "code",
   "execution_count": 534,
   "metadata": {},
   "outputs": [
    {
     "name": "stdout",
     "output_type": "stream",
     "text": [
      "Probability that when randomly asking 100 students less than 25 speak Spanish is  0.16313010446635196\n"
     ]
    }
   ],
   "source": [
    "# Calculate probability that when randomly asking 100 students less than 25 speak Spanish\n",
    "# Here we will get a definie number\n",
    "\n",
    "# Theoretically to calculate the probability we will have to find the probability of exactly 0 \n",
    "# students speaking spanish out of 100 students + the probability of exactly 1 student speaking spanish\n",
    "# + the probability of exactly 2 students speaking spanish + .... and so on until less than 25.\n",
    "\n",
    "# Mathematically this is given by\n",
    "# summation of --> nCk * p^k * (1-p)^(n-k)\n",
    "# where k takes value 0 to 24\n",
    "# and nCk = n \"choose\" k\n",
    "\n",
    "#This is nothing but the cummulative distributive function which is claulated using the f0llowing function\n",
    "\n",
    "print(\"Probability that when randomly asking 100 students less than 25 speak Spanish is \",\n",
    "      ap.stats.binom.cdf(k=25, n=100, p=0.3))"
   ]
  },
  {
   "cell_type": "markdown",
   "metadata": {},
   "source": [
    "This number is exact in a sense that it is derived from an analytic expression (sum of binomial\n",
    "probabilities). Now our task is to make a large number of such random samples and see if this probability\n",
    "is indeed true.\n",
    "\n",
    "#### Part 3 \n",
    "Create a sample of 100 students - Bernoulli random variables with probability p = 0.3.\n",
    "\n",
    "#### Part 4 \n",
    "How many of these speak Spanish (i.e. have value 1)?\n",
    "\n",
    "#### Part 5 \n",
    "Now repeat these two steps R (1000 is a good choice) times. How often it happens that we find that\n",
    "less than 25 speak Spanish?"
   ]
  },
  {
   "cell_type": "code",
   "execution_count": 538,
   "metadata": {},
   "outputs": [
    {
     "name": "stdout",
     "output_type": "stream",
     "text": [
      "Number of trials where less than 25 students speak spanish is 106\n"
     ]
    }
   ],
   "source": [
    "lessThan25 = 0 #variable to store if the number of successes (students speaking spanish) < 25\n",
    "\n",
    "# For loop to repeat the number of Bernoulli random variables 1000 times\n",
    "for i in range(1,1001):\n",
    "    \n",
    "    # Passing n=1 to the Binomial distribution it is equivalent to the Bernoulli distribution\n",
    "    # size = 100 tells it to ask 100 random people to find if each of them speak spanish\n",
    "    x = np.random.binomial(size=100, n=1, p=0.3) \n",
    "    if sum(x) < 25: #Counting the number of 1s (people speaking spanish) in the vector returned above\n",
    "        lessThan25 = lessThan25+1\n",
    "\n",
    "print(\"Number of trials where less than 25 students speak spanish is\",lessThan25)"
   ]
  },
  {
   "cell_type": "markdown",
   "metadata": {},
   "source": [
    "We just simulated the language skills of individual students. However, as binomial distribution is just\n",
    "the sum of Bernoullis, we can instead simulate this with binomials.\n",
    "\n",
    "#### Part 6\n",
    "Repeat the same simulation using Binomial distribution."
   ]
  },
  {
   "cell_type": "code",
   "execution_count": 539,
   "metadata": {},
   "outputs": [
    {
     "name": "stdout",
     "output_type": "stream",
     "text": [
      "Number of trials where less than 25 students speak spanish is 130\n"
     ]
    }
   ],
   "source": [
    "# Here we are simulating a binomial distribution where the number of binomial random numbers are repeated 1000 times\n",
    "# np.random.binomial() will return a vector containing the number of successes in each of the 1000 times\n",
    "# We are then finding if each trial had number of successes less than 25 and eventualling counting those trials\n",
    "\n",
    "print(\"Number of trials where less than 25 students speak spanish is\"\n",
    "      ,sum(np.random.binomial(size=1000, n=100, p=0.3)<25))"
   ]
  },
  {
   "cell_type": "markdown",
   "metadata": {},
   "source": [
    "#### Part 7\n",
    "Explain your findings.\n",
    "\n",
    "* Both Part 3-5 and Part 6 contain give similar answers, but the approach is different.\n",
    "* In Part 3-5, 100 Bernoulli random variables are generated and out of these 100, the number of students speaking spanish is being counted. This process is repeated 1000 times through a loop and the the number of instances where less than 25 students were observed to speak spanish is being calcualted\n",
    "* In Part 6, a binomial distributions is being made such that 100 students are being selected at random (for a total of 1000 times) and the number of instances where less than 25 students were observed to speak spanish is being calcualted\n",
    "* More information is in the comments"
   ]
  },
  {
   "cell_type": "markdown",
   "metadata": {},
   "source": [
    "## Question 3: German tank problem\n",
    "\n",
    "This exercise introduces you into a statistical problem, commonly referred to as \"German Tank Problem\":\n",
    "\n",
    "You are an Allied commander during WW2. After a hard fight, you capture three German\n",
    "tanks. The serial numbers of the captured tanks are 12, 44 and 71. How many tanks do\n",
    "Germans have assuming your men have captured tanks at random? From the intelligence you\n",
    "know that Germans number the tanks sequentially.\n",
    "\n",
    "It is not hard to solve it theoretically but here we just jump into Monte Carlo simulations. Proceed as\n",
    "follows:\n",
    "Obviously, Germans have at least 71 tanks. Assume, for now, that they have, say, n = 100 tanks.\n",
    "(Well, they had n tanks before your boys knocked those three out...)"
   ]
  },
  {
   "cell_type": "markdown",
   "metadata": {},
   "source": [
    "#### Part 1\n",
    "\n",
    "Repeat the following R times (1000 is a good choice):\n",
    "\n",
    "(a) Capture random tanks: choose three random integers between 1 and n without replacement.\n",
    "These are the serial numbers of your captured tanks.\n",
    "(b) Find the largest serial number of captured tanks. Store it in a vector."
   ]
  },
  {
   "cell_type": "code",
   "execution_count": 597,
   "metadata": {},
   "outputs": [],
   "source": [
    "# This function takes in the value of n and return the probability as per the algorithm given in the assignment\n",
    "def germanTankProblem(n):\n",
    "    largestSrlNum = [] #empty list to store the largest serial number\n",
    "\n",
    "    for i in range(1000):\n",
    "        #generating a vector of 3 random integers that denote the serail numbers of the tanks captured\n",
    "        #here the upper limit is n+1 because the function only considers n-1 values\n",
    "        capturedTanks = np.random.choice(n+1, size = 3, replace=False)\n",
    "        largestSrlNum.append(capturedTanks.max()) #maximum of the captured tanks is the largets serial number\n",
    "\n",
    "    largestSrlNum = np.asarray(largestSrlNum)#converting the list into numpy array\n",
    "    \n",
    "    #Calculating the probability that the largest serial number is no more than the actual value 71\n",
    "    prob = len(largestSrlNum[(largestSrlNum < 71) == True])/1000 \n",
    "    \n",
    "    print(\"When n=\",n, \", the probability that the largest serial number is no more than the actual value 71 is \", \n",
    "         round(prob*100,2),\"%.\", sep=\"\")\n",
    "    \n",
    "    return prob*100\n"
   ]
  },
  {
   "cell_type": "markdown",
   "metadata": {},
   "source": [
    "#### Part 2\n",
    "Now you have a long vector of the largest serial numbers of captured tanks. Based on this list,\n",
    "answer the following question: what is the probability that the largest serial number is no more than the actual value 71?\n",
    "\n",
    "#### Part3\n",
    "Now pick another possible number of tanks: n = 200. Repeat the items 1 and 2 and calculate the\n",
    "probability.\n",
    "\n",
    "#### Part 4\n",
    "Pick more n-s and repeat the process. Attempt to determine the range of feasible n-s: what is a\n",
    "possible number of German tanks so that the probability that the largest captured serial number of\n",
    "71 is no less than 5%."
   ]
  },
  {
   "cell_type": "code",
   "execution_count": 661,
   "metadata": {},
   "outputs": [
    {
     "name": "stdout",
     "output_type": "stream",
     "text": [
      "When n=100, the probability that the largest serial number is no more than the actual value 71 is 32.4%.\n",
      "When n=150, the probability that the largest serial number is no more than the actual value 71 is 10.1%.\n",
      "When n=175, the probability that the largest serial number is no more than the actual value 71 is 6.8%.\n",
      "When n=180, the probability that the largest serial number is no more than the actual value 71 is 5.8%.\n",
      "When n=185, the probability that the largest serial number is no more than the actual value 71 is 6.6%.\n",
      "When n=190, the probability that the largest serial number is no more than the actual value 71 is 4.8%.\n",
      "When n=195, the probability that the largest serial number is no more than the actual value 71 is 3.6%.\n",
      "When n=200, the probability that the largest serial number is no more than the actual value 71 is 2.8%.\n",
      "When n=250, the probability that the largest serial number is no more than the actual value 71 is 1.5%.\n"
     ]
    }
   ],
   "source": [
    "#When considering different values of n\n",
    "n = [100,150,175,180,185,190,195,200,250]\n",
    "for i in n:\n",
    "    germanTankProblem(i)\n"
   ]
  },
  {
   "cell_type": "markdown",
   "metadata": {},
   "source": [
    "#### Part 5\n",
    "Comment/explain your findings."
   ]
  },
  {
   "cell_type": "markdown",
   "metadata": {},
   "source": [
    "* From the above, it is clear that n must be between 180 and 200, such that the probability that the largest captured serial number of 71 is no less than 5%\n",
    "* The actual number cannot be obtained from these simulations because of the random numbers being generated\n",
    "* However, we can conclude that n is definitely less than 200 such that the probability that the largest captured serial number of 71 is no less than 5%"
   ]
  }
 ],
 "metadata": {
  "kernelspec": {
   "display_name": "Python 3",
   "language": "python",
   "name": "python3"
  },
  "language_info": {
   "codemirror_mode": {
    "name": "ipython",
    "version": 3
   },
   "file_extension": ".py",
   "mimetype": "text/x-python",
   "name": "python",
   "nbconvert_exporter": "python",
   "pygments_lexer": "ipython3",
   "version": "3.7.1"
  },
  "name": "ps02-stats_examples.ipynb"
 },
 "nbformat": 4,
 "nbformat_minor": 2
}
